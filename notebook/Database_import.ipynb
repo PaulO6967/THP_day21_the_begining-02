{
 "cells": [
  {
   "cell_type": "raw",
   "id": "0517f0b1",
   "metadata": {},
   "source": [
    "Donner le nom et le prénom de tous les clients."
   ]
  },
  {
   "cell_type": "code",
   "execution_count": 3,
   "id": "6e04a559",
   "metadata": {},
   "outputs": [
    {
     "name": "stdout",
     "output_type": "stream",
     "text": [
      "('Ewing', 'Grant')\n",
      "('Buck', 'Violet')\n",
      "('Hood', 'Isabelle')\n",
      "('Small', 'Germane')\n",
      "('Hancock', 'Vincent')\n",
      "('Mayo', 'Gwendolyn')\n",
      "('Dean', 'Emi')\n",
      "('Salinas', 'Debra')\n",
      "('Hunter', 'Jesse')\n",
      "('Morin', 'Fulton')\n",
      "('Duke', 'Aladdin')\n",
      "('Parsons', 'Leroy')\n",
      "('Coffey', 'Dominique')\n",
      "('Bird', 'Britanney')\n",
      "('Cooke', 'Julian')\n",
      "('Raymond', 'Venus')\n",
      "('Lynch', 'Austin')\n",
      "('Morgan', 'Edan')\n",
      "('Carpenter', 'Sage')\n",
      "('Valenzuela', 'Francis')\n",
      "('Rodriquez', 'Sylvia')\n",
      "('Perry', 'Isabella')\n",
      "('Beard', 'Jordan')\n",
      "('Clarke', 'Yvette')\n",
      "('Huber', 'April')\n",
      "('Joyner', 'Eliana')\n",
      "('Little', 'Leigh')\n",
      "('Reilly', 'Karina')\n",
      "('Gilmore', 'Sean')\n",
      "('Gates', 'Ora')\n",
      "('Hines', 'Wylie')\n",
      "('Thornton', 'Brenda')\n",
      "('Mclaughlin', 'Caldwell')\n",
      "('Schmidt', 'Dorian')\n",
      "('Hines', 'Rose')\n",
      "('Cooke', 'Jordan')\n",
      "('Gallegos', 'Otto')\n",
      "('Pennington', 'Adrian')\n",
      "('Howard', 'Brynne')\n",
      "('Sullivan', 'Isadora')\n",
      "('Cleveland', 'Yoshio')\n",
      "('Mcpherson', 'Cyrus')\n",
      "('Lee', 'Dustin')\n",
      "('Cobb', 'Alexandra')\n",
      "('Mays', 'Latifah')\n",
      "('Grant', 'Prescott')\n",
      "('Hill', 'Olivia')\n",
      "('Livingston', 'Adria')\n",
      "('Rush', 'Lev')\n",
      "('Shepard', 'Summer')\n",
      "('Rutledge', 'Maggy')\n",
      "('Shepherd', 'Isa')\n",
      "('Peters', 'Odette')\n",
      "('Maddox', 'Hammett')\n",
      "('Greer', 'Echo')\n",
      "('Burch', 'Rebecca')\n",
      "('Hunt', 'Madaline')\n",
      "('Peck', 'Keiko')\n",
      "('Roberson', 'Lewis')\n",
      "('Dumbledore', 'Albus')\n",
      "('Rogue', 'Severus')\n",
      "('Wells', 'Bethany')\n",
      "('Faulkner', 'Ramona')\n",
      "('Diaz', 'Ivory')\n",
      "('Booker', 'Ahmed')\n",
      "('Conrad', 'Sara')\n",
      "('Roy', 'Winifred')\n",
      "('Blanchard', 'Chiquita')\n",
      "('Green', 'Ulric')\n",
      "('Robles', 'Paloma')\n",
      "('Watts', 'Uma')\n",
      "('Barry', 'Xavier')\n",
      "('Gaines', 'Rosalyn')\n",
      "('Romero', 'Uriah')\n",
      "('Wilkinson', 'Ariana')\n",
      "('Aguirre', 'Amir')\n",
      "('MacGonagall', 'Minerva')\n",
      "('Montoya', 'Martina')\n",
      "('Eaton', 'Lacy')\n",
      "('Baldwin', 'Charity')\n",
      "('Mercer', 'Quinn')\n",
      "('Rojas', 'Lisandra')\n",
      "('Campos', 'Melissa')\n",
      "('Finley', 'Myra')\n",
      "('Gill', 'Mari')\n",
      "('Guerra', 'Leonard')\n",
      "('Floyd', 'Taylor')\n",
      "('Burns', 'Steel')\n",
      "('Hobbs', 'Sydney')\n",
      "('Fry', 'Sierra')\n",
      "('Little', 'Nero')\n",
      "('Weeks', 'Lamar')\n",
      "('Alvarado', 'Jerry')\n",
      "('Becker', 'Buckminster')\n",
      "('Short', 'Conan')\n",
      "('Koch', 'Alexa')\n",
      "('Sparks', 'Nina')\n",
      "('Mathews', 'Elmo')\n",
      "('Slater', 'Donovan')\n",
      "('Sparks', 'Steel')\n"
     ]
    }
   ],
   "source": [
    "import sqlite3\n",
    "baseDeDonnees = sqlite3.connect(\"/home/paul_o/dossierlinux/THP/24.07.2023/THP_day21_the_begining-02/infos/py066-ma_banque.db\")\n",
    "curseur = baseDeDonnees.cursor()\n",
    "curseur.execute(\"SELECT nom, prenom FROM client\")\n",
    "for contact in curseur.fetchall():\n",
    "    print(contact)\n",
    "baseDeDonnees.close()"
   ]
  },
  {
   "cell_type": "raw",
   "id": "8308a965",
   "metadata": {},
   "source": [
    "Donner le nom et le prénom des clients habitant à Paris."
   ]
  },
  {
   "cell_type": "code",
   "execution_count": 8,
   "id": "bcf3a9d2",
   "metadata": {},
   "outputs": [
    {
     "name": "stdout",
     "output_type": "stream",
     "text": [
      "('Hood', 'Isabelle', 'Paris')\n",
      "('Parsons', 'Leroy', 'Paris')\n",
      "('Grant', 'Prescott', 'Paris')\n",
      "('Hill', 'Olivia', 'Paris')\n",
      "('Fry', 'Sierra', 'Paris')\n",
      "('Becker', 'Buckminster', 'Paris')\n"
     ]
    }
   ],
   "source": [
    "import sqlite3\n",
    "baseDeDonnees = sqlite3.connect(\"/home/paul_o/dossierlinux/THP/24.07.2023/THP_day21_the_begining-02/infos/py066-ma_banque.db\")\n",
    "curseur = baseDeDonnees.cursor()\n",
    "curseur.execute(\"SELECT nom, prenom, ville FROM client WHERE ville =?\",(\"Paris\",))\n",
    "for contact in curseur.fetchall():\n",
    "    print(contact)\n",
    "baseDeDonnees.close()"
   ]
  },
  {
   "cell_type": "raw",
   "id": "ea0be192",
   "metadata": {},
   "source": [
    "Donner les identifiants des comptes de type Livret A."
   ]
  },
  {
   "cell_type": "code",
   "execution_count": 10,
   "id": "a10c09c8",
   "metadata": {},
   "outputs": [
    {
     "name": "stdout",
     "output_type": "stream",
     "text": [
      "(2,)\n",
      "(10,)\n",
      "(11,)\n",
      "(13,)\n",
      "(28,)\n",
      "(30,)\n",
      "(31,)\n",
      "(37,)\n",
      "(45,)\n",
      "(51,)\n",
      "(52,)\n",
      "(53,)\n",
      "(59,)\n",
      "(61,)\n",
      "(64,)\n",
      "(69,)\n",
      "(72,)\n",
      "(77,)\n",
      "(89,)\n",
      "(94,)\n",
      "(98,)\n",
      "(101,)\n",
      "(102,)\n",
      "(106,)\n",
      "(117,)\n",
      "(120,)\n",
      "(122,)\n",
      "(125,)\n",
      "(126,)\n",
      "(127,)\n",
      "(128,)\n",
      "(130,)\n",
      "(139,)\n",
      "(144,)\n",
      "(148,)\n",
      "(156,)\n",
      "(159,)\n",
      "(162,)\n",
      "(165,)\n",
      "(166,)\n",
      "(169,)\n",
      "(170,)\n",
      "(172,)\n",
      "(177,)\n",
      "(181,)\n",
      "(188,)\n",
      "(190,)\n",
      "(192,)\n",
      "(196,)\n",
      "(198,)\n",
      "(201,)\n",
      "(203,)\n",
      "(213,)\n",
      "(214,)\n",
      "(224,)\n",
      "(225,)\n",
      "(228,)\n",
      "(229,)\n",
      "(230,)\n",
      "(231,)\n",
      "(235,)\n",
      "(236,)\n",
      "(237,)\n",
      "(239,)\n",
      "(256,)\n",
      "(269,)\n",
      "(273,)\n",
      "(278,)\n",
      "(282,)\n",
      "(295,)\n",
      "(297,)\n",
      "(299,)\n"
     ]
    }
   ],
   "source": [
    "import sqlite3\n",
    "baseDeDonnees = sqlite3.connect(\"/home/paul_o/dossierlinux/THP/24.07.2023/THP_day21_the_begining-02/infos/py066-ma_banque.db\")\n",
    "curseur = baseDeDonnees.cursor()\n",
    "curseur.execute(\"SELECT idcompte FROM compte WHERE type =?\",(\"Livret A\",))\n",
    "for contact in curseur.fetchall():\n",
    "    print(contact)\n",
    "baseDeDonnees.close()"
   ]
  },
  {
   "cell_type": "raw",
   "id": "98fb2c8d",
   "metadata": {},
   "source": [
    "Donner les identifiants des opérations de débit sur le compte d’identifiant égal à 1."
   ]
  },
  {
   "cell_type": "code",
   "execution_count": 13,
   "id": "271f45f0",
   "metadata": {},
   "outputs": [
    {
     "name": "stdout",
     "output_type": "stream",
     "text": [
      "(836, -360.29446778975)\n"
     ]
    }
   ],
   "source": [
    "import sqlite3\n",
    "baseDeDonnees = sqlite3.connect(\"/home/paul_o/dossierlinux/THP/24.07.2023/THP_day21_the_begining-02/infos/py066-ma_banque.db\")\n",
    "curseur = baseDeDonnees.cursor()\n",
    "curseur.execute(\"SELECT idop, montant FROM operation WHERE idcompte =? AND montant < 0 \",(\"1\",))\n",
    "for contact in curseur.fetchall():\n",
    "    print(contact)\n",
    "baseDeDonnees.close()"
   ]
  },
  {
   "cell_type": "raw",
   "id": "ffde10c4",
   "metadata": {},
   "source": [
    "Donner, sans doublon, les identifiants des propriétaires de livret A, classés par ordre croissant."
   ]
  },
  {
   "cell_type": "code",
   "execution_count": 15,
   "id": "7b00eb76",
   "metadata": {},
   "outputs": [
    {
     "name": "stdout",
     "output_type": "stream",
     "text": [
      "(48,)\n",
      "(87,)\n",
      "(69,)\n",
      "(89,)\n",
      "(52,)\n",
      "(32,)\n",
      "(36,)\n",
      "(59,)\n",
      "(88,)\n",
      "(98,)\n",
      "(17,)\n",
      "(78,)\n",
      "(91,)\n",
      "(73,)\n",
      "(9,)\n",
      "(62,)\n",
      "(49,)\n",
      "(46,)\n",
      "(51,)\n",
      "(56,)\n",
      "(12,)\n",
      "(29,)\n",
      "(97,)\n",
      "(63,)\n",
      "(100,)\n",
      "(28,)\n",
      "(54,)\n",
      "(34,)\n",
      "(30,)\n",
      "(92,)\n",
      "(71,)\n",
      "(72,)\n",
      "(38,)\n",
      "(33,)\n",
      "(5,)\n",
      "(96,)\n",
      "(61,)\n",
      "(93,)\n",
      "(82,)\n",
      "(60,)\n",
      "(15,)\n",
      "(2,)\n",
      "(22,)\n",
      "(74,)\n",
      "(13,)\n",
      "(84,)\n",
      "(95,)\n",
      "(25,)\n",
      "(3,)\n"
     ]
    }
   ],
   "source": [
    "import sqlite3\n",
    "baseDeDonnees = sqlite3.connect(\"/home/paul_o/dossierlinux/THP/24.07.2023/THP_day21_the_begining-02/infos/py066-ma_banque.db\")\n",
    "curseur = baseDeDonnees.cursor()\n",
    "curseur.execute(\"SELECT DISTINCT idproprietaire FROM compte WHERE type =?\",(\"Livret A\",))\n",
    "for contact in curseur.fetchall():\n",
    "    print(contact)\n",
    "baseDeDonnees.close()"
   ]
  },
  {
   "cell_type": "raw",
   "id": "a6e6df78",
   "metadata": {},
   "source": [
    "Donner l’identifiant des clients n’ayant pas de livret A."
   ]
  },
  {
   "cell_type": "code",
   "execution_count": 16,
   "id": "1433729b",
   "metadata": {},
   "outputs": [
    {
     "name": "stdout",
     "output_type": "stream",
     "text": [
      "(70,)\n",
      "(87,)\n",
      "(5,)\n",
      "(63,)\n",
      "(67,)\n",
      "(75,)\n",
      "(3,)\n",
      "(34,)\n",
      "(82,)\n",
      "(56,)\n",
      "(6,)\n",
      "(52,)\n",
      "(9,)\n",
      "(57,)\n",
      "(95,)\n",
      "(28,)\n",
      "(51,)\n",
      "(49,)\n",
      "(25,)\n",
      "(79,)\n",
      "(32,)\n",
      "(24,)\n",
      "(11,)\n",
      "(17,)\n",
      "(61,)\n",
      "(92,)\n",
      "(2,)\n",
      "(80,)\n",
      "(20,)\n",
      "(13,)\n",
      "(100,)\n",
      "(69,)\n",
      "(96,)\n",
      "(68,)\n",
      "(65,)\n",
      "(94,)\n",
      "(50,)\n",
      "(60,)\n",
      "(99,)\n",
      "(19,)\n",
      "(72,)\n",
      "(14,)\n",
      "(62,)\n",
      "(43,)\n",
      "(73,)\n",
      "(12,)\n",
      "(38,)\n",
      "(86,)\n",
      "(15,)\n",
      "(48,)\n",
      "(47,)\n",
      "(88,)\n",
      "(29,)\n",
      "(81,)\n",
      "(36,)\n",
      "(44,)\n",
      "(71,)\n",
      "(77,)\n",
      "(18,)\n",
      "(46,)\n",
      "(31,)\n",
      "(42,)\n",
      "(91,)\n",
      "(64,)\n",
      "(26,)\n",
      "(89,)\n",
      "(45,)\n",
      "(39,)\n",
      "(21,)\n",
      "(55,)\n",
      "(98,)\n",
      "(10,)\n",
      "(90,)\n",
      "(83,)\n",
      "(58,)\n",
      "(37,)\n",
      "(53,)\n",
      "(16,)\n",
      "(8,)\n",
      "(35,)\n",
      "(40,)\n",
      "(54,)\n",
      "(33,)\n",
      "(97,)\n",
      "(7,)\n",
      "(30,)\n",
      "(76,)\n",
      "(27,)\n"
     ]
    }
   ],
   "source": [
    "import sqlite3\n",
    "baseDeDonnees = sqlite3.connect(\"/home/paul_o/dossierlinux/THP/24.07.2023/THP_day21_the_begining-02/infos/py066-ma_banque.db\")\n",
    "curseur = baseDeDonnees.cursor()\n",
    "curseur.execute(\"SELECT DISTINCT idproprietaire FROM compte WHERE type <> ?\",(\"Livret A\",))\n",
    "for contact in curseur.fetchall():\n",
    "    print(contact)\n",
    "baseDeDonnees.close()"
   ]
  },
  {
   "cell_type": "raw",
   "id": "2e696b44",
   "metadata": {},
   "source": [
    "Donner l’identifiant de compte et le type de compte des clients habitant à Paris."
   ]
  },
  {
   "cell_type": "code",
   "execution_count": 19,
   "id": "8c9d9bb5",
   "metadata": {},
   "outputs": [
    {
     "name": "stdout",
     "output_type": "stream",
     "text": [
      "(9, 'Assurance Vie')\n",
      "(60, 'Compte Courant')\n",
      "(67, 'Compte Courant')\n",
      "(77, 'Livret A')\n",
      "(82, 'Plan Epargne Actions')\n",
      "(91, 'Assurance Vie')\n",
      "(98, 'Livret A')\n",
      "(113, 'Assurance Vie')\n",
      "(114, 'Compte Courant')\n",
      "(125, 'Livret A')\n",
      "(146, 'Assurance Vie')\n",
      "(154, 'Assurance Vie')\n",
      "(161, 'Assurance Vie')\n",
      "(181, 'Livret A')\n",
      "(183, 'Compte Courant')\n",
      "(185, 'Compte Courant')\n",
      "(200, 'Plan Epargne Actions')\n",
      "(204, 'Plan Epargne Actions')\n",
      "(219, 'Assurance Vie')\n",
      "(233, 'Assurance Vie')\n",
      "(234, 'Assurance Vie')\n",
      "(242, 'Compte Courant')\n",
      "(255, 'Compte Courant')\n",
      "(261, 'Compte Courant')\n",
      "(263, 'Assurance Vie')\n",
      "(264, 'Compte Courant')\n",
      "(278, 'Livret A')\n",
      "(290, 'Assurance Vie')\n",
      "(297, 'Livret A')\n"
     ]
    }
   ],
   "source": [
    "import sqlite3\n",
    "baseDeDonnees = sqlite3.connect(\"/home/paul_o/dossierlinux/THP/24.07.2023/THP_day21_the_begining-02/infos/py066-ma_banque.db\")\n",
    "curseur = baseDeDonnees.cursor()\n",
    "curseur.execute(\"SELECT c.idcompte, c.type  FROM client t, compte c WHERE t.idclient = c.idproprietaire AND t.ville =?\",(\"Paris\",))\n",
    "for contact in curseur.fetchall():\n",
    "    print(contact)\n",
    "baseDeDonnees.close()"
   ]
  },
  {
   "cell_type": "raw",
   "id": "22fb2ad8",
   "metadata": {},
   "source": [
    "Donner la liste des comptes et les types de compte de Dumbledore."
   ]
  },
  {
   "cell_type": "code",
   "execution_count": 21,
   "id": "24cbb56d",
   "metadata": {},
   "outputs": [
    {
     "name": "stdout",
     "output_type": "stream",
     "text": [
      "(65, 'Assurance Vie', 60, 'Dumbledore')\n",
      "(71, 'Assurance Vie', 60, 'Dumbledore')\n",
      "(214, 'Livret A', 60, 'Dumbledore')\n",
      "(239, 'Livret A', 60, 'Dumbledore')\n"
     ]
    }
   ],
   "source": [
    "import sqlite3\n",
    "baseDeDonnees = sqlite3.connect(\"/home/paul_o/dossierlinux/THP/24.07.2023/THP_day21_the_begining-02/infos/py066-ma_banque.db\")\n",
    "curseur = baseDeDonnees.cursor()\n",
    "curseur.execute(\"SELECT c.idcompte, c.type FROM client t, compte c WHERE t.idclient = c.idproprietaire AND t.nom =?\",(\"Dumbledore\",))\n",
    "for contact in curseur.fetchall():\n",
    "    print(contact)\n",
    "baseDeDonnees.close()"
   ]
  },
  {
   "cell_type": "raw",
   "id": "5d1daae7",
   "metadata": {},
   "source": [
    "Donner le nombre de clients par ville, classé par ordre alphabétique de villes."
   ]
  },
  {
   "cell_type": "code",
   "execution_count": 23,
   "id": "29ba72de",
   "metadata": {},
   "outputs": [
    {
     "name": "stdout",
     "output_type": "stream",
     "text": [
      "('Aix-en-Provence', 1)\n",
      "('Arcachon', 1)\n",
      "('Avignon', 1)\n",
      "('Bayonne', 1)\n",
      "('Blenheim', 1)\n",
      "('Bologne', 1)\n",
      "('Cannes', 1)\n",
      "('Grenoble', 1)\n",
      "('La Roche-sur-Yon', 1)\n",
      "('Lens', 1)\n",
      "('Limanges', 1)\n",
      "('Limoges', 1)\n",
      "('Mande', 1)\n",
      "('Metz', 1)\n",
      "('Montauban', 1)\n",
      "('Montpellier', 1)\n",
      "('Orange', 1)\n",
      "('Perpignan', 1)\n",
      "('Pré-au-Lard', 1)\n",
      "('Quimper', 1)\n",
      "('Rangen', 1)\n",
      "('Rennes', 1)\n",
      "(\"Rue d'Ulm\", 1)\n",
      "('Saint-Etienne', 1)\n",
      "('Strasboug', 1)\n",
      "('Valencienne', 1)\n",
      "('Versailles', 1)\n",
      "('X', 1)\n",
      "('Amiens', 2)\n",
      "('Angers', 2)\n",
      "('Belfort', 2)\n",
      "('Besançon', 2)\n",
      "('Calais', 2)\n",
      "('Carpentras', 2)\n",
      "('Clermont-Ferrand', 2)\n",
      "('Nancy', 2)\n",
      "('Orléans', 2)\n",
      "('Rouen', 2)\n",
      "('Toulouse', 2)\n",
      "('Bordeaux', 3)\n",
      "('Brest', 3)\n",
      "('Mulhouse', 3)\n",
      "('Nantes', 3)\n",
      "('Palaiseau', 3)\n",
      "('Poudlard', 3)\n",
      "('Reims', 3)\n",
      "('Lille', 4)\n",
      "('Nice', 4)\n",
      "('Lyon', 5)\n",
      "('Marseille', 5)\n",
      "('Strasbourg', 5)\n",
      "('Paris', 6)\n"
     ]
    }
   ],
   "source": [
    "import sqlite3\n",
    "baseDeDonnees = sqlite3.connect(\"/home/paul_o/dossierlinux/THP/24.07.2023/THP_day21_the_begining-02/infos/py066-ma_banque.db\")\n",
    "curseur = baseDeDonnees.cursor()\n",
    "curseur.execute(\"SELECT ville, COUNT(ville) AS quantity FROM client GROUP BY ville ORDER BY quantity\")\n",
    "for contact in curseur.fetchall():\n",
    "    print(contact)\n",
    "baseDeDonnees.close()"
   ]
  },
  {
   "cell_type": "raw",
   "id": "1af82b61",
   "metadata": {},
   "source": [
    "donner la ville ayant le plus de clients."
   ]
  },
  {
   "cell_type": "code",
   "execution_count": 26,
   "id": "83920aef",
   "metadata": {},
   "outputs": [
    {
     "name": "stdout",
     "output_type": "stream",
     "text": [
      "('Paris', 6)\n"
     ]
    }
   ],
   "source": [
    "import sqlite3\n",
    "baseDeDonnees = sqlite3.connect(\"/home/paul_o/dossierlinux/THP/24.07.2023/THP_day21_the_begining-02/infos/py066-ma_banque.db\")\n",
    "curseur = baseDeDonnees.cursor()\n",
    "curseur.execute(\"SELECT ville, COUNT(ville) AS quantity FROM client GROUP BY ville ORDER BY quantity DESC LIMIT 1\")\n",
    "for contact in curseur.fetchall():\n",
    "    print(contact)\n",
    "baseDeDonnees.close()"
   ]
  },
  {
   "cell_type": "code",
   "execution_count": null,
   "id": "69879b66",
   "metadata": {},
   "outputs": [],
   "source": []
  }
 ],
 "metadata": {
  "kernelspec": {
   "display_name": "Python 3 (ipykernel)",
   "language": "python",
   "name": "python3"
  },
  "language_info": {
   "codemirror_mode": {
    "name": "ipython",
    "version": 3
   },
   "file_extension": ".py",
   "mimetype": "text/x-python",
   "name": "python",
   "nbconvert_exporter": "python",
   "pygments_lexer": "ipython3",
   "version": "3.11.3"
  }
 },
 "nbformat": 4,
 "nbformat_minor": 5
}
